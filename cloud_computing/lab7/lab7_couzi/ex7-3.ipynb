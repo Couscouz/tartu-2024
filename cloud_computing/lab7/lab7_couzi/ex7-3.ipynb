{
 "cells": [
  {
   "cell_type": "code",
   "execution_count": 65,
   "id": "6d6e3f03-c690-461b-97d6-56c748f160e4",
   "metadata": {},
   "outputs": [
    {
     "name": "stdout",
     "output_type": "stream",
     "text": [
      "+---------------------------+-----------------+\n",
      "|Station Name               |Average Humidity |\n",
      "+---------------------------+-----------------+\n",
      "|Foster Weather Station     |63.83517988298269|\n",
      "|63rd Street Weather Station|72.58917709170206|\n",
      "|Oak Street Weather Station |65.28146524733876|\n",
      "+---------------------------+-----------------+\n",
      "\n"
     ]
    }
   ],
   "source": [
    "import sys\n",
    "from pyspark.sql import SparkSession\n",
    "import pyspark.sql.functions as sparkFun\n",
    "\n",
    "\n",
    "#Set a name for the application\n",
    "appName = \"DataFrame Example\"\n",
    "\n",
    "#Set the input folder location\n",
    "input_folder = \"data/in\" \n",
    "\n",
    "#Set the input folder location\n",
    "output_folder = \"data/out\" \n",
    "\n",
    "#create a new Spark application and get the Spark session object\n",
    "spark = SparkSession.builder.appName(appName).getOrCreate()\n",
    "\n",
    "#read in the CSV dataset as a DataFrame\n",
    "#inferSchema option forces Spark to automatically specify data column types\n",
    "#header option forces Spark to automatically fetch column names from the first line in the dataset files\n",
    "weather_df = spark.read \\\n",
    "              .option(\"inferSchema\", True) \\\n",
    "              .option(\"header\", True) \\\n",
    "              .csv(input_folder)\n",
    "\n",
    "\n",
    "#Show 10 rows without truncating lines.\n",
    "#review content might be a multi-line string.\n",
    "#weather_df.show(10, False)\n",
    "\n",
    "#Show dataset schema/structure with filed names and types\n",
    "#weather_df.printSchema()\n",
    "\n",
    "#-----------------------------------\n",
    "\n",
    "result_df = weather_df.select(\"Station Name\", \"Air Temperature\", \"Humidity\") \\\n",
    "                      .filter(\"`Air Temperature` > 20\") \\\n",
    "                      .groupBy(\"Station Name\") \\\n",
    "                      .agg(sparkFun.avg(\"Humidity\").alias(\"Average Humidity\"))\n",
    "\n",
    "result_df.show(10, False) \n",
    "\n",
    "result_df.coalesce(1).write.mode(\"overwrite\").format(\"csv\").save(output_folder+\"/ex7-3\")\n",
    "\n",
    "#Stop Spark session\n",
    "spark.stop()"
   ]
  }
 ],
 "metadata": {
  "kernelspec": {
   "display_name": "Python 3 (ipykernel)",
   "language": "python",
   "name": "python3"
  },
  "language_info": {
   "codemirror_mode": {
    "name": "ipython",
    "version": 3
   },
   "file_extension": ".py",
   "mimetype": "text/x-python",
   "name": "python",
   "nbconvert_exporter": "python",
   "pygments_lexer": "ipython3",
   "version": "3.11.8"
  }
 },
 "nbformat": 4,
 "nbformat_minor": 5
}
